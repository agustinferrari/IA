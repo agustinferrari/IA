{
 "cells": [
  {
   "cell_type": "code",
   "execution_count": 1,
   "metadata": {},
   "outputs": [],
   "source": [
    "from riverCrossEnv import RiverCrossEnv\n",
    "from riverCrossModel import RiverCrossModel\n",
    "from riverCrossUtils import finish"
   ]
  },
  {
   "cell_type": "code",
   "execution_count": 2,
   "metadata": {},
   "outputs": [
    {
     "name": "stdout",
     "output_type": "stream",
     "text": [
      "dict_items([('farmerSide', 0), ('cabbageSide', 0), ('goatSide', 0), ('wolfSide', 0)])\n"
     ]
    }
   ],
   "source": [
    "env = RiverCrossEnv()\n",
    "model = RiverCrossModel()\n",
    "node, prev_node = model.BFS()\n",
    "model.make_strategy(node, prev_node)"
   ]
  },
  {
   "cell_type": "code",
   "execution_count": 3,
   "metadata": {},
   "outputs": [
    {
     "name": "stdout",
     "output_type": "stream",
     "text": [
      "CGW< __\n",
      "\n",
      "{'farmerSide': 0, 'cabbageSide': 0, 'goatSide': 0, 'wolfSide': 0}\n",
      "\n",
      "CW > _G\n",
      "CW > _G\n",
      "\n",
      "{'farmerSide': 1, 'cabbageSide': 0, 'goatSide': 1, 'wolfSide': 0}\n",
      "\n",
      "CW < _G\n",
      "CW < _G\n",
      "\n",
      "{'farmerSide': 0, 'cabbageSide': 0, 'goatSide': 1, 'wolfSide': 0}\n",
      "\n",
      "W_ > GC\n",
      "W_ > GC\n",
      "\n",
      "{'farmerSide': 1, 'cabbageSide': 1, 'goatSide': 1, 'wolfSide': 0}\n",
      "\n",
      "GW < _C\n",
      "GW < _C\n",
      "\n",
      "{'farmerSide': 0, 'cabbageSide': 1, 'goatSide': 0, 'wolfSide': 0}\n",
      "\n",
      "G_ > WC\n",
      "G_ > WC\n",
      "\n",
      "{'farmerSide': 1, 'cabbageSide': 1, 'goatSide': 0, 'wolfSide': 1}\n",
      "\n",
      "G_ < WC\n",
      "G_ < WC\n",
      "\n",
      "{'farmerSide': 0, 'cabbageSide': 1, 'goatSide': 0, 'wolfSide': 1}\n",
      "\n",
      "__ >WGC\n",
      "Felicitaciones, ganaste!\n"
     ]
    }
   ],
   "source": [
    "done = False\n",
    "obs = env.reset()\n",
    "while (not(done)):\n",
    "    env.render()\n",
    "    print()\n",
    "    print(obs)\n",
    "    print()\n",
    "    action = model.strategy(obs)\n",
    "    obs, _, done, _ = env.step(action)\n",
    "    env.render()\n",
    "finish(obs)"
   ]
  },
  {
   "cell_type": "code",
   "execution_count": null,
   "metadata": {},
   "outputs": [],
   "source": []
  }
 ],
 "metadata": {
  "kernelspec": {
   "display_name": "Python 3",
   "language": "python",
   "name": "python3"
  },
  "language_info": {
   "codemirror_mode": {
    "name": "ipython",
    "version": 3
   },
   "file_extension": ".py",
   "mimetype": "text/x-python",
   "name": "python",
   "nbconvert_exporter": "python",
   "pygments_lexer": "ipython3",
   "version": "3.9.7"
  }
 },
 "nbformat": 4,
 "nbformat_minor": 2
}
