{
  "cells": [
    {
      "cell_type": "code",
      "execution_count": null,
      "metadata": {
        "id": "4BFTHcKjLkNr",
        "colab": {
          "base_uri": "https://localhost:8080/"
        },
        "outputId": "e32d62bf-db13-4410-c43d-f61c55def839"
      },
      "outputs": [
        {
          "output_type": "stream",
          "name": "stderr",
          "text": [
            "/usr/local/lib/python3.7/dist-packages/scipy/fft/__init__.py:97: DeprecationWarning: The module numpy.dual is deprecated.  Instead of using dual, use the functions directly from numpy or scipy.\n",
            "  from numpy.dual import register_func\n",
            "/usr/local/lib/python3.7/dist-packages/scipy/sparse/sputils.py:17: DeprecationWarning: `np.typeDict` is a deprecated alias for `np.sctypeDict`.\n",
            "  supported_dtypes = [np.typeDict[x] for x in supported_dtypes]\n",
            "/usr/local/lib/python3.7/dist-packages/scipy/special/orthogonal.py:81: DeprecationWarning: `np.int` is a deprecated alias for the builtin `int`. To silence this warning, use `int` by itself. Doing this will not modify any behavior and is safe. When replacing `np.int`, you may wish to use e.g. `np.int64` or `np.int32` to specify the precision. If you wish to review your current use, check the release note link for additional information.\n",
            "Deprecated in NumPy 1.20; for more details and guidance: https://numpy.org/devdocs/release/1.20.0-notes.html#deprecations\n",
            "  from numpy import (exp, inf, pi, sqrt, floor, sin, cos, around, int,\n"
          ]
        }
      ],
      "source": [
        "import gym\n",
        "import numpy as np\n",
        "from gym import error, spaces, utils, Env\n",
        "import matplotlib.pyplot as plt\n",
        "from sklearn.metrics import mean_squared_error, mean_absolute_error"
      ]
    },
    {
      "cell_type": "code",
      "source": [
        "!pip install -U gym"
      ],
      "metadata": {
        "colab": {
          "base_uri": "https://localhost:8080/",
          "height": 557
        },
        "id": "xWXySv1KN2dP",
        "outputId": "705a8c91-e4dd-458a-f1d0-e2b5c3abc9a5"
      },
      "execution_count": null,
      "outputs": [
        {
          "output_type": "stream",
          "name": "stdout",
          "text": [
            "Requirement already satisfied: gym in /usr/local/lib/python3.7/dist-packages (0.17.3)\n",
            "Collecting gym\n",
            "  Downloading gym-0.23.1.tar.gz (626 kB)\n",
            "\u001b[K     |████████████████████████████████| 626 kB 3.9 MB/s \n",
            "\u001b[?25h  Installing build dependencies ... \u001b[?25l\u001b[?25hdone\n",
            "  Getting requirements to build wheel ... \u001b[?25l\u001b[?25hdone\n",
            "    Preparing wheel metadata ... \u001b[?25l\u001b[?25hdone\n",
            "Requirement already satisfied: cloudpickle>=1.2.0 in /usr/local/lib/python3.7/dist-packages (from gym) (1.3.0)\n",
            "Requirement already satisfied: importlib-metadata>=4.10.0 in /usr/local/lib/python3.7/dist-packages (from gym) (4.11.2)\n",
            "Requirement already satisfied: numpy>=1.18.0 in /usr/local/lib/python3.7/dist-packages (from gym) (1.21.5)\n",
            "Collecting gym-notices>=0.0.4\n",
            "  Downloading gym_notices-0.0.6-py3-none-any.whl (2.7 kB)\n",
            "Requirement already satisfied: zipp>=0.5 in /usr/local/lib/python3.7/dist-packages (from importlib-metadata>=4.10.0->gym) (3.7.0)\n",
            "Requirement already satisfied: typing-extensions>=3.6.4 in /usr/local/lib/python3.7/dist-packages (from importlib-metadata>=4.10.0->gym) (3.10.0.2)\n",
            "Building wheels for collected packages: gym\n",
            "  Building wheel for gym (PEP 517) ... \u001b[?25l\u001b[?25hdone\n",
            "  Created wheel for gym: filename=gym-0.23.1-py3-none-any.whl size=701375 sha256=53e730bf5d05f91fe7bf1832703d4a9985cf308caa89ba757897c01420807961\n",
            "  Stored in directory: /root/.cache/pip/wheels/e3/33/04/6723848e46f0f1ebe794bb329b7c761c3329a0d7ffade99da7\n",
            "Successfully built gym\n",
            "Installing collected packages: gym-notices, gym\n",
            "  Attempting uninstall: gym\n",
            "    Found existing installation: gym 0.17.3\n",
            "    Uninstalling gym-0.17.3:\n",
            "      Successfully uninstalled gym-0.17.3\n",
            "Successfully installed gym-0.23.1 gym-notices-0.0.6\n"
          ]
        },
        {
          "output_type": "display_data",
          "data": {
            "application/vnd.colab-display-data+json": {
              "pip_warning": {
                "packages": [
                  "gym"
                ]
              }
            }
          },
          "metadata": {}
        }
      ]
    },
    {
      "cell_type": "markdown",
      "metadata": {
        "id": "lAM_bK8_LkNv"
      },
      "source": [
        "# Descripción del problema\n",
        "\n",
        "El siguiente ejemplo consiste en un Ambiente (Room). La temperatura de la habitación cambia debido a la temperatura externa ambiente (se asume de forma desconocida). La habitación cuenta con un equipo de Aire Acondicionado controlado por un Agente. El objetivo de este Agente es mantener la temperatura en 0 grados. El Aire Acondicionado puede cambiar la temperatura en 0, 1, 2 o 3 grados ya sea frío o calor."
      ]
    },
    {
      "cell_type": "markdown",
      "metadata": {
        "id": "VgQZrpDrLkNx"
      },
      "source": [
        "# Ambiente\n",
        "\n",
        "El ambiente (Room) está simulado por el siguiente código"
      ]
    },
    {
      "cell_type": "code",
      "execution_count": null,
      "metadata": {
        "id": "he_SsYmPLkNy"
      },
      "outputs": [],
      "source": [
        "class Room(Env):\n",
        "    \n",
        "    def __init__(self):\n",
        "        self.observation_space = spaces.Box(low=-20, high=40, shape=(), dtype=np.float32)\n",
        "        self.action_space = spaces.Discrete(7, start=-3)\n",
        "                  \n",
        "    def reset(self):\n",
        "        self.step_count = 0\n",
        "        self.initial_random = self.observation_space.sample()\n",
        "        self.external_temp = 0\n",
        "        self.external_temp = self._temp_variation()\n",
        "        self.temp = self.external_temp\n",
        "        return self.temp\n",
        "    \n",
        "    def step(self, action):\n",
        "        delta_temp = self._temp_variation()\n",
        "        self.external_temp += delta_temp\n",
        "        self.temp += delta_temp + action\n",
        "        self.step_count += 1\n",
        "        return self.temp\n",
        "\n",
        "    def _temp_variation(self):\n",
        "        x = self.initial_random + self.step_count\n",
        "        return np.float64('%.2f'%(20 * np.sin(x/10))) - self.external_temp \n",
        "          "
      ]
    },
    {
      "cell_type": "markdown",
      "metadata": {
        "id": "C8Lr4kWqLkNy"
      },
      "source": [
        "# Test Room"
      ]
    },
    {
      "cell_type": "code",
      "execution_count": null,
      "metadata": {
        "id": "f2alrh_2LkNz"
      },
      "outputs": [],
      "source": [
        "env = Room()"
      ]
    },
    {
      "cell_type": "code",
      "execution_count": null,
      "metadata": {
        "id": "dkzi9erXLkN0",
        "outputId": "d5ee5d24-1976-4afd-ac3a-f377bf55984e",
        "colab": {
          "base_uri": "https://localhost:8080/"
        }
      },
      "outputs": [
        {
          "output_type": "execute_result",
          "data": {
            "text/plain": [
              "Box(-20.0, 40.0, (), float32)"
            ]
          },
          "metadata": {},
          "execution_count": 4
        }
      ],
      "source": [
        "env.observation_space"
      ]
    },
    {
      "cell_type": "code",
      "execution_count": null,
      "metadata": {
        "id": "AlcSYV9CLkN1",
        "outputId": "f4003ca4-797c-48f4-a5e0-d02fa33331a1",
        "colab": {
          "base_uri": "https://localhost:8080/"
        }
      },
      "outputs": [
        {
          "output_type": "execute_result",
          "data": {
            "text/plain": [
              "array(-5.8779187, dtype=float32)"
            ]
          },
          "metadata": {},
          "execution_count": 5
        }
      ],
      "source": [
        "env.observation_space.sample()"
      ]
    },
    {
      "cell_type": "code",
      "execution_count": null,
      "metadata": {
        "id": "uvDRwYpfLkN2",
        "outputId": "a2a29da0-9b03-44db-cadf-409be3e11668",
        "colab": {
          "base_uri": "https://localhost:8080/"
        }
      },
      "outputs": [
        {
          "output_type": "execute_result",
          "data": {
            "text/plain": [
              "Discrete(7, start=-3)"
            ]
          },
          "metadata": {},
          "execution_count": 6
        }
      ],
      "source": [
        "env.action_space"
      ]
    },
    {
      "cell_type": "code",
      "execution_count": null,
      "metadata": {
        "id": "SFQ9HyufLkN2",
        "outputId": "9a2c736e-15d8-47d5-ea7a-4a3eb750530e",
        "colab": {
          "base_uri": "https://localhost:8080/"
        }
      },
      "outputs": [
        {
          "output_type": "execute_result",
          "data": {
            "text/plain": [
              "-2"
            ]
          },
          "metadata": {},
          "execution_count": 7
        }
      ],
      "source": [
        "env.action_space.sample()"
      ]
    },
    {
      "cell_type": "code",
      "execution_count": null,
      "metadata": {
        "id": "Efq6PeHILkN3",
        "outputId": "b9ad4b89-96a6-449d-a1c0-19f1d34fb997",
        "colab": {
          "base_uri": "https://localhost:8080/"
        }
      },
      "outputs": [
        {
          "output_type": "execute_result",
          "data": {
            "text/plain": [
              "-5.88"
            ]
          },
          "metadata": {},
          "execution_count": 8
        }
      ],
      "source": [
        "env.reset()"
      ]
    },
    {
      "cell_type": "markdown",
      "metadata": {
        "id": "Uf7KVKIFLkN3"
      },
      "source": [
        "# Reflex Agente\n",
        "\n",
        "Esta es la implementación de un Agente Reflejo Simple, que dada la observación (temperatura de la habitación), toma una acción de enfriar o calentar en 0, 1, 2 o 3 grados. El agente solo enfría o calienta si la temperatura difiere en más de 2 grados."
      ]
    },
    {
      "cell_type": "code",
      "execution_count": null,
      "metadata": {
        "id": "H04kqZMnLkN4"
      },
      "outputs": [],
      "source": [
        "class AgentReflex():\n",
        "\n",
        "    def lookup(self, obs):\n",
        "        if obs > 9:\n",
        "            return -3\n",
        "        elif obs > 5:\n",
        "            return -2\n",
        "        elif obs < -9:\n",
        "            return 3\n",
        "        elif obs < -5:\n",
        "            return 2\n",
        "        else:\n",
        "            return 0"
      ]
    },
    {
      "cell_type": "markdown",
      "metadata": {
        "id": "9oR8JTO3LkN4"
      },
      "source": [
        "# Test Reflex"
      ]
    },
    {
      "cell_type": "code",
      "execution_count": null,
      "metadata": {
        "id": "aGXJFbU8LkN4"
      },
      "outputs": [],
      "source": [
        "agent = AgentReflex()"
      ]
    },
    {
      "cell_type": "code",
      "execution_count": null,
      "metadata": {
        "id": "cqgP55uoLkN5"
      },
      "outputs": [],
      "source": [
        "obs = env.reset()\n",
        "external_res = []\n",
        "agent_res = []\n",
        "total_steps = 100"
      ]
    },
    {
      "cell_type": "code",
      "execution_count": null,
      "metadata": {
        "id": "X6e5lkIFLkN5",
        "outputId": "d55059c0-faca-48fb-f2f1-fc6e823adc26",
        "colab": {
          "base_uri": "https://localhost:8080/"
        }
      },
      "outputs": [
        {
          "output_type": "stream",
          "name": "stdout",
          "text": [
            "External: -2.16 \n",
            " Prev. Obs: -2.16 -> Action: 3 -> Room: 0.8399999999999999\n",
            "External: -2.16 \n",
            " Prev. Obs: 0.8399999999999999 -> Action: -1 -> Room: -2.1399999999999997\n",
            "External: -4.14 \n",
            " Prev. Obs: -2.1399999999999997 -> Action: 3 -> Room: -1.0700000000000003\n",
            "External: -6.07 \n",
            " Prev. Obs: -1.0700000000000003 -> Action: 3 -> Room: 0.05999999999999961\n",
            "External: -7.94 \n",
            " Prev. Obs: 0.05999999999999961 -> Action: 0 -> Room: -1.7300000000000004\n",
            "External: -9.73 \n",
            " Prev. Obs: -1.7300000000000004 -> Action: 2 -> Room: -1.4299999999999997\n",
            "External: -11.43 \n",
            " Prev. Obs: -1.4299999999999997 -> Action: 3 -> Room: -0.009999999999999787\n",
            "External: -13.01 \n",
            " Prev. Obs: -0.009999999999999787 -> Action: 1 -> Room: -0.46000000000000085\n",
            "External: -14.46 \n",
            " Prev. Obs: -0.46000000000000085 -> Action: 1 -> Room: -0.7699999999999996\n",
            "External: -15.77 \n",
            " Prev. Obs: -0.7699999999999996 -> Action: 2 -> Room: 0.0799999999999983\n",
            "External: -16.92 \n",
            " Prev. Obs: 0.0799999999999983 -> Action: 0 -> Room: -0.8999999999999986\n",
            "External: -17.9 \n",
            " Prev. Obs: -0.8999999999999986 -> Action: 1 -> Room: -0.6999999999999993\n",
            "External: -18.7 \n",
            " Prev. Obs: -0.6999999999999993 -> Action: 2 -> Room: 0.6900000000000013\n",
            "External: -19.31 \n",
            " Prev. Obs: 0.6900000000000013 -> Action: -1 -> Room: -0.7399999999999984\n",
            "External: -19.74 \n",
            " Prev. Obs: -0.7399999999999984 -> Action: 1 -> Room: 0.03999999999999915\n",
            "External: -19.96 \n",
            " Prev. Obs: 0.03999999999999915 -> Action: 0 -> Room: 0.010000000000001563\n",
            "External: -19.99 \n",
            " Prev. Obs: 0.010000000000001563 -> Action: -1 -> Room: -0.8099999999999987\n",
            "External: -19.81 \n",
            " Prev. Obs: -0.8099999999999987 -> Action: 1 -> Room: 0.5599999999999987\n",
            "External: -19.44 \n",
            " Prev. Obs: 0.5599999999999987 -> Action: -1 -> Room: 0.129999999999999\n",
            "External: -18.87 \n",
            " Prev. Obs: 0.129999999999999 -> Action: -1 -> Room: -0.120000000000001\n",
            "External: -18.12 \n",
            " Prev. Obs: -0.120000000000001 -> Action: 0 -> Room: 0.8200000000000003\n",
            "External: -17.18 \n",
            " Prev. Obs: 0.8200000000000003 -> Action: -1 -> Room: 0.9299999999999997\n",
            "External: -16.07 \n",
            " Prev. Obs: 0.9299999999999997 -> Action: -2 -> Room: 0.1999999999999993\n",
            "External: -14.8 \n",
            " Prev. Obs: 0.1999999999999993 -> Action: -1 -> Room: 0.6099999999999994\n",
            "External: -13.39 \n",
            " Prev. Obs: 0.6099999999999994 -> Action: -2 -> Room: 0.16000000000000014\n",
            "External: -11.84 \n",
            " Prev. Obs: 0.16000000000000014 -> Action: -1 -> Room: 0.8300000000000001\n",
            "External: -10.17 \n",
            " Prev. Obs: 0.8300000000000001 -> Action: -2 -> Room: 0.5999999999999996\n",
            "External: -8.4 \n",
            " Prev. Obs: 0.5999999999999996 -> Action: -2 -> Room: 0.45999999999999996\n",
            "External: -6.54 \n",
            " Prev. Obs: 0.45999999999999996 -> Action: -1 -> Room: 1.38\n",
            "External: -4.62 \n",
            " Prev. Obs: 1.38 -> Action: -3 -> Room: 0.33999999999999986\n",
            "External: -2.66 \n",
            " Prev. Obs: 0.33999999999999986 -> Action: -1 -> Room: 1.33\n",
            "External: -0.6699999999999999 \n",
            " Prev. Obs: 1.33 -> Action: -3 -> Room: 0.33000000000000007\n",
            "External: 1.33 \n",
            " Prev. Obs: 0.33000000000000007 -> Action: -1 -> Room: 1.3199999999999998\n",
            "External: 3.32 \n",
            " Prev. Obs: 1.3199999999999998 -> Action: -3 -> Room: 0.2699999999999996\n",
            "External: 5.27 \n",
            " Prev. Obs: 0.2699999999999996 -> Action: -1 -> Room: 1.17\n",
            "External: 7.17 \n",
            " Prev. Obs: 1.17 -> Action: -3 -> Room: 0.0\n",
            "External: 9.0 \n",
            " Prev. Obs: 0.0 -> Action: 0 -> Room: 1.7400000000000002\n",
            "External: 10.74 \n",
            " Prev. Obs: 1.7400000000000002 -> Action: -2 -> Room: 1.3699999999999992\n",
            "External: 12.37 \n",
            " Prev. Obs: 1.3699999999999992 -> Action: -3 -> Room: -0.11999999999999922\n",
            "External: 13.88 \n",
            " Prev. Obs: -0.11999999999999922 -> Action: 0 -> Room: 1.2400000000000002\n",
            "External: 15.24 \n",
            " Prev. Obs: 1.2400000000000002 -> Action: -2 -> Room: 0.46000000000000085\n",
            "External: 16.46 \n",
            " Prev. Obs: 0.46000000000000085 -> Action: -1 -> Room: 0.5100000000000016\n",
            "External: 17.51 \n",
            " Prev. Obs: 0.5100000000000016 -> Action: -2 -> Room: -0.6099999999999994\n",
            "External: 18.39 \n",
            " Prev. Obs: -0.6099999999999994 -> Action: 1 -> Room: 1.0799999999999983\n",
            "External: 19.08 \n",
            " Prev. Obs: 1.0799999999999983 -> Action: -2 -> Room: -0.4200000000000017\n",
            "External: 19.58 \n",
            " Prev. Obs: -0.4200000000000017 -> Action: 0 -> Room: -0.10999999999999943\n",
            "External: 19.89 \n",
            " Prev. Obs: -0.10999999999999943 -> Action: 1 -> Room: 1.0\n",
            "External: 20.0 \n",
            " Prev. Obs: 1.0 -> Action: -1 -> Room: -0.08999999999999986\n",
            "External: 19.91 \n",
            " Prev. Obs: -0.08999999999999986 -> Action: 0 -> Room: -0.379999999999999\n",
            "External: 19.62 \n",
            " Prev. Obs: -0.379999999999999 -> Action: 1 -> Room: 0.129999999999999\n",
            "External: 19.13 \n",
            " Prev. Obs: 0.129999999999999 -> Action: 0 -> Room: -0.5500000000000007\n",
            "External: 18.45 \n",
            " Prev. Obs: -0.5500000000000007 -> Action: 1 -> Room: -0.41000000000000014\n",
            "External: 17.59 \n",
            " Prev. Obs: -0.41000000000000014 -> Action: 1 -> Room: -0.4499999999999993\n",
            "External: 16.55 \n",
            " Prev. Obs: -0.4499999999999993 -> Action: 1 -> Room: -0.6500000000000004\n",
            "External: 15.35 \n",
            " Prev. Obs: -0.6500000000000004 -> Action: 2 -> Room: -0.009999999999999787\n",
            "External: 13.99 \n",
            " Prev. Obs: -0.009999999999999787 -> Action: 1 -> Room: -0.5\n",
            "External: 12.5 \n",
            " Prev. Obs: -0.5 -> Action: 1 -> Room: -1.1300000000000008\n",
            "External: 10.87 \n",
            " Prev. Obs: -1.1300000000000008 -> Action: 3 -> Room: 0.14000000000000057\n",
            "External: 9.14 \n",
            " Prev. Obs: 0.14000000000000057 -> Action: 0 -> Room: -1.6799999999999997\n",
            "External: 7.32 \n",
            " Prev. Obs: -1.6799999999999997 -> Action: 2 -> Room: -1.5700000000000003\n",
            "External: 5.43 \n",
            " Prev. Obs: -1.5700000000000003 -> Action: 3 -> Room: -0.52\n",
            "External: 3.48 \n",
            " Prev. Obs: -0.52 -> Action: 2 -> Room: -0.5\n",
            "External: 1.5 \n",
            " Prev. Obs: -0.5 -> Action: 1 -> Room: -1.5\n",
            "External: -0.5 \n",
            " Prev. Obs: -1.5 -> Action: 3 -> Room: -0.5\n",
            "External: -2.5 \n",
            " Prev. Obs: -0.5 -> Action: 1 -> Room: -1.46\n",
            "External: -4.46 \n",
            " Prev. Obs: -1.46 -> Action: 3 -> Room: -0.3899999999999997\n",
            "External: -6.39 \n",
            " Prev. Obs: -0.3899999999999997 -> Action: 1 -> Room: -1.25\n",
            "External: -8.25 \n",
            " Prev. Obs: -1.25 -> Action: 3 -> Room: -0.02999999999999936\n",
            "External: -10.03 \n",
            " Prev. Obs: -0.02999999999999936 -> Action: 1 -> Room: -0.6999999999999993\n",
            "External: -11.7 \n",
            " Prev. Obs: -0.6999999999999993 -> Action: 2 -> Room: -0.2599999999999998\n",
            "External: -13.26 \n",
            " Prev. Obs: -0.2599999999999998 -> Action: 1 -> Room: -0.6899999999999995\n",
            "External: -14.69 \n",
            " Prev. Obs: -0.6899999999999995 -> Action: 2 -> Room: 0.02999999999999936\n",
            "External: -15.97 \n",
            " Prev. Obs: 0.02999999999999936 -> Action: 0 -> Room: -1.1000000000000014\n",
            "External: -17.1 \n",
            " Prev. Obs: -1.1000000000000014 -> Action: 2 -> Room: -0.05000000000000071\n",
            "External: -18.05 \n",
            " Prev. Obs: -0.05000000000000071 -> Action: 1 -> Room: 0.17999999999999972\n",
            "External: -18.82 \n",
            " Prev. Obs: 0.17999999999999972 -> Action: 0 -> Room: -0.3999999999999986\n",
            "External: -19.4 \n",
            " Prev. Obs: -0.3999999999999986 -> Action: 0 -> Room: -0.7899999999999991\n",
            "External: -19.79 \n",
            " Prev. Obs: -0.7899999999999991 -> Action: 2 -> Room: 1.0199999999999996\n",
            "External: -19.98 \n",
            " Prev. Obs: 1.0199999999999996 -> Action: -2 -> Room: -0.9699999999999989\n",
            "External: -19.97 \n",
            " Prev. Obs: -0.9699999999999989 -> Action: 1 -> Room: 0.23999999999999844\n",
            "External: -19.76 \n",
            " Prev. Obs: 0.23999999999999844 -> Action: 0 -> Room: 0.6400000000000006\n",
            "External: -19.36 \n",
            " Prev. Obs: 0.6400000000000006 -> Action: -2 -> Room: -0.7600000000000016\n",
            "External: -18.76 \n",
            " Prev. Obs: -0.7600000000000016 -> Action: 1 -> Room: 1.0300000000000011\n",
            "External: -17.97 \n",
            " Prev. Obs: 1.0300000000000011 -> Action: -2 -> Room: -0.010000000000001563\n",
            "External: -17.01 \n",
            " Prev. Obs: -0.010000000000001563 -> Action: 0 -> Room: 1.1300000000000008\n",
            "External: -15.87 \n",
            " Prev. Obs: 1.1300000000000008 -> Action: -2 -> Room: 0.4299999999999997\n",
            "External: -14.57 \n",
            " Prev. Obs: 0.4299999999999997 -> Action: -1 -> Room: 0.8699999999999992\n",
            "External: -13.13 \n",
            " Prev. Obs: 0.8699999999999992 -> Action: -2 -> Room: 0.4399999999999995\n",
            "External: -11.56 \n",
            " Prev. Obs: 0.4399999999999995 -> Action: -1 -> Room: 1.1199999999999992\n",
            "External: -9.88 \n",
            " Prev. Obs: 1.1199999999999992 -> Action: -3 -> Room: -0.08999999999999986\n",
            "External: -8.09 \n",
            " Prev. Obs: -0.08999999999999986 -> Action: 0 -> Room: 1.7800000000000002\n",
            "External: -6.22 \n",
            " Prev. Obs: 1.7800000000000002 -> Action: -2 -> Room: 1.7000000000000002\n",
            "External: -4.3 \n",
            " Prev. Obs: 1.7000000000000002 -> Action: -3 -> Room: 0.6800000000000002\n",
            "External: -2.32 \n",
            " Prev. Obs: 0.6800000000000002 -> Action: -2 -> Room: 0.6699999999999999\n",
            "External: -0.33000000000000007 \n",
            " Prev. Obs: 0.6699999999999999 -> Action: -2 -> Room: 0.6699999999999999\n",
            "External: 1.67 \n",
            " Prev. Obs: 0.6699999999999999 -> Action: -2 -> Room: 0.6499999999999999\n",
            "External: 3.65 \n",
            " Prev. Obs: 0.6499999999999999 -> Action: -2 -> Room: 0.5899999999999999\n",
            "External: 5.59 \n",
            " Prev. Obs: 0.5899999999999999 -> Action: -2 -> Room: 0.4800000000000004\n",
            "External: 7.48 \n",
            " Prev. Obs: 0.4800000000000004 -> Action: -1 -> Room: 1.3000000000000007\n",
            "External: 9.3 \n",
            " Prev. Obs: 1.3000000000000007 -> Action: -3 -> Room: 0.019999999999999574\n"
          ]
        }
      ],
      "source": [
        "for i in range(0, total_steps):  \n",
        "    \n",
        "    # solamente para evaluar la evolución de la temperatura de la habitación con y sin agente\n",
        "    # la temperatura de la habitación sin el agente es igual a la temperatura exterior\n",
        "    \n",
        "    external_temp = env.external_temp\n",
        "    external_res.append(external_temp)\n",
        "    \n",
        "    # decisión y acción del agente\n",
        "    \n",
        "    prev_obs = obs\n",
        "    action = agent.lookup(obs)\n",
        "    obs = env.step(action)\n",
        "    agent_res.append(obs)  \n",
        "    \n",
        "    print('External:', external_temp, '\\n','Prev. Obs:', prev_obs, '-> Action:', action, '-> Room:', obs)"
      ]
    },
    {
      "cell_type": "markdown",
      "metadata": {
        "id": "GEMazO33LkN5"
      },
      "source": [
        "# Graficando los resultados"
      ]
    },
    {
      "cell_type": "code",
      "execution_count": null,
      "metadata": {
        "id": "2jDoOKbRLkN6",
        "outputId": "45c861fe-ded3-42cf-e3ef-baea367b77a9",
        "colab": {
          "base_uri": "https://localhost:8080/",
          "height": 282
        }
      },
      "outputs": [
        {
          "output_type": "execute_result",
          "data": {
            "text/plain": [
              "[<matplotlib.lines.Line2D at 0x7fb8170fd550>]"
            ]
          },
          "metadata": {},
          "execution_count": 64
        },
        {
          "output_type": "display_data",
          "data": {
            "text/plain": [
              "<Figure size 432x288 with 1 Axes>"
            ],
            "image/png": "[encoded data removed]"
          },
          "metadata": {
            "needs_background": "light"
          }
        }
      ],
      "source": [
        "plt.axhline(color='black')                                  #Temperatura ideal\n",
        "plt.plot(range(0, total_steps), agent_res, color='red')     #Temperatura con el agente\n",
        "plt.plot(range(0, total_steps), external_res, color='blue') #Temperatura sin agente"
      ]
    },
    {
      "cell_type": "markdown",
      "metadata": {
        "id": "LMakK2PxLkN6"
      },
      "source": [
        "# Métrica de Performance\n",
        "Una posible métrica de performance, podría ser ver la temperatura media del ambiente con la acción del agente."
      ]
    },
    {
      "cell_type": "code",
      "execution_count": null,
      "metadata": {
        "id": "4CH4heI5LkN6",
        "outputId": "05c8efeb-7cbe-43ce-e5c0-723dbc46dfeb",
        "colab": {
          "base_uri": "https://localhost:8080/"
        }
      },
      "outputs": [
        {
          "output_type": "stream",
          "name": "stdout",
          "text": [
            "Temperatura media con el agente:  0.014799999999999685\n",
            "Temperatura media sin el agente:  -3.2981999999999996\n"
          ]
        }
      ],
      "source": [
        "print(\"Temperatura media con el agente: \", np.mean(agent_res))\n",
        "print(\"Temperatura media sin el agente: \", np.mean(external_res))"
      ]
    },
    {
      "cell_type": "markdown",
      "metadata": {
        "id": "oJ3GqUWnLkN7"
      },
      "source": [
        "Otra posible métrica de performance, es evaluar para cada instante de tiempo (step) cuanto difiere la temperatura obtenida de la objetivo=0. Esto se puede hacer con mean_squared_error o mean_absolute_error. \n",
        "Comparemos la métrica obtenida por el agente contra la métrica obtenida sin un agente:"
      ]
    },
    {
      "cell_type": "code",
      "execution_count": null,
      "metadata": {
        "id": "B2rzVGalLkN7",
        "outputId": "eada5909-713f-45ac-9375-0c914e265afc",
        "colab": {
          "base_uri": "https://localhost:8080/"
        }
      },
      "outputs": [
        {
          "output_type": "stream",
          "name": "stdout",
          "text": [
            "Variación media con el agente:  1.9997999999999998\n",
            "Variación media sin el agente:  12.5738\n"
          ]
        }
      ],
      "source": [
        "goal_temp = np.zeros(total_steps)\n",
        "print(\"Variación media con el agente: \", mean_absolute_error(goal_temp, agent_res))\n",
        "print(\"Variación media sin el agente: \", mean_absolute_error(goal_temp, external_res))"
      ]
    },
    {
      "cell_type": "markdown",
      "metadata": {
        "id": "NWhT0YiwLkN7"
      },
      "source": [
        "# Ejercicio: Model (Goal / Utility) Based Agent "
      ]
    },
    {
      "cell_type": "markdown",
      "metadata": {
        "id": "xIj8wX2zXDwS"
      },
      "source": [
        "# Primer cambio\n",
        "\n",
        "Mucha mas agresividad"
      ]
    },
    {
      "cell_type": "code",
      "source": [
        "class AgentReflex():\n",
        "\n",
        "    def lookup(self, obs):\n",
        "        if obs > 0:\n",
        "            return -3\n",
        "        elif obs < 0:\n",
        "            return 3\n",
        "        else:\n",
        "            return 0"
      ],
      "metadata": {
        "id": "MRp8-wj7XDwT"
      },
      "execution_count": null,
      "outputs": []
    },
    {
      "cell_type": "code",
      "source": [
        "goal_temp = np.zeros(total_steps)\n",
        "print(\"Variación media con el agente: \", mean_absolute_error(goal_temp, agent_res))\n",
        "print(\"Variación media sin el agente: \", mean_absolute_error(goal_temp, external_res))"
      ],
      "metadata": {
        "colab": {
          "base_uri": "https://localhost:8080/"
        },
        "outputId": "25a6bfcd-c3b2-48ca-f01e-306d7b9c6eec",
        "id": "Lna3Vqh9XDwT"
      },
      "execution_count": null,
      "outputs": [
        {
          "output_type": "stream",
          "name": "stdout",
          "text": [
            "Variación media con el agente:  2.1673\n",
            "Variación media sin el agente:  12.986500000000001\n"
          ]
        }
      ]
    },
    {
      "cell_type": "code",
      "source": [
        "plt.axhline(color='black')                                  #Temperatura ideal\n",
        "plt.plot(range(0, total_steps), agent_res, color='red')     #Temperatura con el agente\n",
        "plt.plot(range(0, total_steps), external_res, color='blue') #Temperatura sin agente"
      ],
      "metadata": {
        "colab": {
          "base_uri": "https://localhost:8080/",
          "height": 282
        },
        "outputId": "bd30cf7b-db55-4bf2-abbf-5d2afa4a9b86",
        "id": "PliWivMIXDwU"
      },
      "execution_count": null,
      "outputs": [
        {
          "output_type": "execute_result",
          "data": {
            "text/plain": [
              "[<matplotlib.lines.Line2D at 0x7fb8169bbb90>]"
            ]
          },
          "metadata": {},
          "execution_count": 148
        },
        {
          "output_type": "display_data",
          "data": {
            "text/plain": [
              "<Figure size 432x288 with 1 Axes>"
            ],
            "image/png": "[encoded data removed]"
          },
          "metadata": {
            "needs_background": "light"
          }
        }
      ]
    },
    {
      "cell_type": "markdown",
      "metadata": {
        "id": "FPtmYKIBLkN8"
      },
      "source": [
        "Construir un Agente basado en un modelo. \n",
        "Esto es: \n",
        "    - Construir un modelo a mano, por ejemplo un grafo, con estados y transiciones [Ver figura].\n",
        "    - Discretizar las observaciones devueltas por el ambiente mapeándolas a un estado.\n",
        "    - Tomar una decisón basada en el estado.\n",
        "    - Definir un objetivo y una utilidad\n",
        "\n",
        "Por ejemplo, el Agente podría conocer un modelo que tiene 2 estados {Frío, Calor}\n",
        "<img src=\"Modelo.png\">\n"
      ]
    },
    {
      "cell_type": "markdown",
      "metadata": {
        "id": "Sz3KZy76XM1a"
      },
      "source": [
        "# Segundo cambio\n",
        "\n",
        "Menos agresividad"
      ]
    },
    {
      "cell_type": "code",
      "source": [
        "class AgentReflex():\n",
        "  def lookup(self, obs):\n",
        "        if obs > 2:\n",
        "            return -3\n",
        "        if obs > 1:\n",
        "            return -2\n",
        "        if obs > 0.5:\n",
        "            return -1\n",
        "        elif obs < -2:\n",
        "            return 3\n",
        "        elif obs < -1:\n",
        "            return 2  \n",
        "        elif obs < -0.5:\n",
        "            return 1\n",
        "        else:\n",
        "            return 0"
      ],
      "metadata": {
        "id": "Meu-U9kcXM1i"
      },
      "execution_count": null,
      "outputs": []
    },
    {
      "cell_type": "code",
      "source": [
        "goal_temp = np.zeros(total_steps)\n",
        "print(\"Variación media con el agente: \", mean_absolute_error(goal_temp, agent_res))\n",
        "print(\"Variación media sin el agente: \", mean_absolute_error(goal_temp, external_res))"
      ],
      "metadata": {
        "colab": {
          "base_uri": "https://localhost:8080/"
        },
        "outputId": "4f2098d4-7452-4709-bc33-bc20047b9bf0",
        "id": "6Q0gWQd2XM1i"
      },
      "execution_count": null,
      "outputs": [
        {
          "output_type": "stream",
          "name": "stdout",
          "text": [
            "Variación media con el agente:  1.1638000000000002\n",
            "Variación media sin el agente:  12.6649\n"
          ]
        }
      ]
    },
    {
      "cell_type": "code",
      "source": [
        "plt.axhline(color='black')                                  #Temperatura ideal\n",
        "plt.plot(range(0, total_steps), agent_res, color='red')     #Temperatura con el agente\n",
        "plt.plot(range(0, total_steps), external_res, color='blue') #Temperatura sin agente"
      ],
      "metadata": {
        "colab": {
          "base_uri": "https://localhost:8080/",
          "height": 282
        },
        "id": "x0HbekDgXM1j",
        "outputId": "b596091a-b370-4865-a3c3-abf064f4a4db"
      },
      "execution_count": null,
      "outputs": [
        {
          "output_type": "execute_result",
          "data": {
            "text/plain": [
              "[<matplotlib.lines.Line2D at 0x7fb816a486d0>]"
            ]
          },
          "metadata": {},
          "execution_count": 141
        },
        {
          "output_type": "display_data",
          "data": {
            "text/plain": [
              "<Figure size 432x288 with 1 Axes>"
            ],
            "image/png": "[encoded data removed]"
          },
          "metadata": {
            "needs_background": "light"
          }
        }
      ]
    },
    {
      "cell_type": "markdown",
      "metadata": {
        "id": "8XERepNuZBEO"
      },
      "source": [
        "# Tercer cambio\n",
        "\n",
        "Modelo"
      ]
    },
    {
      "cell_type": "code",
      "source": [
        "class AgentReflex():\n",
        "  def __init__(self):\n",
        "    self.prev = 0\n",
        "\n",
        "  def update_model(self,  obs):\n",
        "    if obs < 0 and self.prev < 0:\n",
        "      self.model = \"frio\"\n",
        "    elif obs > 0 and self.prev > 0:\n",
        "      self.model = \"calor\"\n",
        "    else:\n",
        "      self.model = \"neutro\"\n",
        "\n",
        "  def lookup(self, obs):\n",
        "        self.update_model(obs)\n",
        "        if obs > 2:\n",
        "            self.prevAct = -3\n",
        "        elif obs > 1:\n",
        "            self.prevAct = -2\n",
        "        elif obs > 0.5:\n",
        "            self.prevAct = -1\n",
        "        elif obs > 0 and self.prevAct > 1:\n",
        "            self.prevAct = 1 \n",
        "        elif obs < -2:\n",
        "            self.prevAct = 3\n",
        "        elif obs < -1:\n",
        "            self.prevAct = 2  \n",
        "        elif obs < -0.5:\n",
        "            self.prevAct = 1\n",
        "        elif obs < 0 and self.prevAct < -1:\n",
        "            self.prevAct = -1   \n",
        "        else:\n",
        "            self.prevAct = 0\n",
        "        self.prev = obs\n",
        "        if self.model == \"frio\" and self.prevAct < 3:\n",
        "          self.prevAct = self.prevAct + 1\n",
        "        elif self.model == \"calor\"and self.prevAct > -3:\n",
        "          self.prevAct = self.prevAct - 1\n",
        "        return self.prevAct"
      ],
      "metadata": {
        "id": "jwfRVxU_ZBEU"
      },
      "execution_count": null,
      "outputs": []
    },
    {
      "cell_type": "code",
      "source": [
        "goal_temp = np.zeros(total_steps)\n",
        "print(\"Variación media con el agente: \", mean_absolute_error(goal_temp, agent_res))\n",
        "print(\"Variación media sin el agente: \", mean_absolute_error(goal_temp, external_res))"
      ],
      "metadata": {
        "colab": {
          "base_uri": "https://localhost:8080/"
        },
        "outputId": "e1e901aa-2247-417f-971f-070a14f9b090",
        "id": "0puN4ymYZBEU"
      },
      "execution_count": null,
      "outputs": [
        {
          "output_type": "stream",
          "name": "stdout",
          "text": [
            "Variación media con el agente:  0.7038999999999999\n",
            "Variación media sin el agente:  12.2815\n"
          ]
        }
      ]
    },
    {
      "cell_type": "code",
      "source": [
        "plt.axhline(color='black')                                  #Temperatura ideal\n",
        "plt.plot(range(0, total_steps), agent_res, color='red')     #Temperatura con el agente\n",
        "plt.plot(range(0, total_steps), external_res, color='blue') #Temperatura sin agente"
      ],
      "metadata": {
        "colab": {
          "base_uri": "https://localhost:8080/",
          "height": 282
        },
        "outputId": "1a28611a-55dc-4a1e-bd2a-305165e0961e",
        "id": "F7rwT0ljZBEV"
      },
      "execution_count": null,
      "outputs": [
        {
          "output_type": "execute_result",
          "data": {
            "text/plain": [
              "[<matplotlib.lines.Line2D at 0x7fb816699d10>]"
            ]
          },
          "metadata": {},
          "execution_count": 226
        },
        {
          "output_type": "display_data",
          "data": {
            "text/plain": [
              "<Figure size 432x288 with 1 Axes>"
            ],
            "image/png": "[encoded data removed]"
          },
          "metadata": {
            "needs_background": "light"
          }
        }
      ]
    },
    {
      "cell_type": "markdown",
      "metadata": {
        "id": "XgH8rlE9lBZT"
      },
      "source": [
        "# Cuarto cambio\n",
        "\n",
        "Sacar parte del else if"
      ]
    },
    {
      "cell_type": "code",
      "source": [
        "class AgentReflex():\n",
        "  def __init__(self):\n",
        "    self.prev = 0\n",
        "\n",
        "  def update_model(self,  obs):\n",
        "    if obs < 0 and self.prev < 0:\n",
        "      self.model = \"frio\"\n",
        "    elif obs > 0 and self.prev > 0:\n",
        "      self.model = \"calor\"\n",
        "    else:\n",
        "      self.model = \"neutro\"\n",
        "\n",
        "  def lookup(self, obs):\n",
        "        self.update_model(obs)\n",
        "        if obs > 2:\n",
        "            self.prevAct = -3\n",
        "        elif obs > 1:\n",
        "            self.prevAct = -2\n",
        "        elif obs > 0.5:\n",
        "            self.prevAct = -1\n",
        "        elif obs < -2:\n",
        "            self.prevAct = 3\n",
        "        elif obs < -1:\n",
        "            self.prevAct = 2  \n",
        "        elif obs < -0.5:\n",
        "            self.prevAct = 1\n",
        "        else:\n",
        "            self.prevAct = 0\n",
        "        self.prev = obs\n",
        "        if self.model == \"frio\" and self.prevAct < 3:\n",
        "          self.prevAct = self.prevAct + 1\n",
        "        elif self.model == \"calor\"and self.prevAct > -3:\n",
        "          self.prevAct = self.prevAct - 1\n",
        "        return self.prevAct"
      ],
      "metadata": {
        "id": "9eRgZ35VlBZU"
      },
      "execution_count": null,
      "outputs": []
    },
    {
      "cell_type": "code",
      "source": [
        "goal_temp = np.zeros(total_steps)\n",
        "print(\"Variación media con el agente: \", mean_absolute_error(goal_temp, agent_res))\n",
        "print(\"Variación media sin el agente: \", mean_absolute_error(goal_temp, external_res))"
      ],
      "metadata": {
        "colab": {
          "base_uri": "https://localhost:8080/"
        },
        "outputId": "a05a42d8-d129-4f98-bd19-f9c026cc2e30",
        "id": "gYRiMkS5lBZU"
      },
      "execution_count": null,
      "outputs": [
        {
          "output_type": "stream",
          "name": "stdout",
          "text": [
            "Variación media con el agente:  0.6802999999999999\n",
            "Variación media sin el agente:  12.2971\n"
          ]
        }
      ]
    },
    {
      "cell_type": "code",
      "source": [
        "plt.axhline(color='black')                                  #Temperatura ideal\n",
        "plt.plot(range(0, total_steps), agent_res, color='red')     #Temperatura con el agente\n",
        "plt.plot(range(0, total_steps), external_res, color='blue') #Temperatura sin agente"
      ],
      "metadata": {
        "colab": {
          "base_uri": "https://localhost:8080/",
          "height": 282
        },
        "outputId": "8c1d78ea-6c6d-48d2-9e9e-35e1bdba3ec1",
        "id": "gCaYqoqJlBZU"
      },
      "execution_count": null,
      "outputs": [
        {
          "output_type": "execute_result",
          "data": {
            "text/plain": [
              "[<matplotlib.lines.Line2D at 0x7fb816274e90>]"
            ]
          },
          "metadata": {},
          "execution_count": 263
        },
        {
          "output_type": "display_data",
          "data": {
            "text/plain": [
              "<Figure size 432x288 with 1 Axes>"
            ],
            "image/png": "[encoded data removed]"
          },
          "metadata": {
            "needs_background": "light"
          }
        }
      ]
    }
  ],
  "metadata": {
    "kernelspec": {
      "display_name": "Python 3",
      "language": "python",
      "name": "python3"
    },
    "language_info": {
      "codemirror_mode": {
        "name": "ipython",
        "version": 3
      },
      "file_extension": ".py",
      "mimetype": "text/x-python",
      "name": "python",
      "nbconvert_exporter": "python",
      "pygments_lexer": "ipython3",
      "version": "3.7.6"
    },
    "colab": {
      "name": "AireAcondicionado.ipynb",
      "provenance": [],
      "toc_visible": true
    }
  },
  "nbformat": 4,
  "nbformat_minor": 0
}